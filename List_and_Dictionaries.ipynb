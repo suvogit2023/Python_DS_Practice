{
  "nbformat": 4,
  "nbformat_minor": 0,
  "metadata": {
    "colab": {
      "provenance": [],
      "authorship_tag": "ABX9TyNCguTtuecdGjWTTJ08i/nt",
      "include_colab_link": true
    },
    "kernelspec": {
      "name": "python3",
      "display_name": "Python 3"
    },
    "language_info": {
      "name": "python"
    }
  },
  "cells": [
    {
      "cell_type": "markdown",
      "metadata": {
        "id": "view-in-github",
        "colab_type": "text"
      },
      "source": [
        "<a href=\"https://colab.research.google.com/github/suvogit2023/Python_DS_Practice/blob/main/List_and_Dictionaries.ipynb\" target=\"_parent\"><img src=\"https://colab.research.google.com/assets/colab-badge.svg\" alt=\"Open In Colab\"/></a>"
      ]
    },
    {
      "cell_type": "markdown",
      "source": [
        "# Code inspired by \"Practical Data Science with Jupyter\" by Prateek Gupta.\n",
        "# For educational showcase purposes only, with no commercial intent.\n",
        "\n",
        "\n",
        "\n",
        "\n",
        "\n"
      ],
      "metadata": {
        "id": "4RuZglrh7O0_"
      }
    },
    {
      "cell_type": "markdown",
      "source": [
        "Creating an empty List in *Python*"
      ],
      "metadata": {
        "id": "_NocS5x1sbJX"
      }
    },
    {
      "cell_type": "code",
      "source": [
        "height=[]\n",
        "type(height)"
      ],
      "metadata": {
        "colab": {
          "base_uri": "https://localhost:8080/"
        },
        "id": "TUibKn9EshNq",
        "outputId": "b22c8e10-b0a0-4cdd-b347-e8298be09964"
      },
      "execution_count": 1,
      "outputs": [
        {
          "output_type": "execute_result",
          "data": {
            "text/plain": [
              "list"
            ]
          },
          "metadata": {},
          "execution_count": 1
        }
      ]
    },
    {
      "cell_type": "markdown",
      "source": [
        "A list containing heights"
      ],
      "metadata": {
        "id": "W9W4dGfastJF"
      }
    },
    {
      "cell_type": "code",
      "source": [
        "height_list=[1.76,1.74,1.79]\n",
        "print(height_list)"
      ],
      "metadata": {
        "colab": {
          "base_uri": "https://localhost:8080/"
        },
        "id": "c3OSKHS9s06s",
        "outputId": "8a6dc343-b965-422c-b4a8-cf6373bb1e72"
      },
      "execution_count": 2,
      "outputs": [
        {
          "output_type": "stream",
          "name": "stdout",
          "text": [
            "[1.76, 1.74, 1.79]\n"
          ]
        }
      ]
    },
    {
      "cell_type": "code",
      "source": [
        "#List containing different str and float\n",
        "name_height_list=[\"Tom\",1.76,\"Harry\",[1,2,3]]"
      ],
      "metadata": {
        "id": "V_tGWM_os6-B"
      },
      "execution_count": 3,
      "outputs": []
    },
    {
      "cell_type": "markdown",
      "source": [
        "#Different list manipulation Operations"
      ],
      "metadata": {
        "id": "ieoXj0puuQ-t"
      }
    },
    {
      "cell_type": "code",
      "source": [
        "lang=['python','c','java']\n",
        "print(lang[0]+' is very is easy')\n",
        "print(lang[1]+' is very is hard')\n",
        "print(lang[2]+' is very is something I have already learnt')"
      ],
      "metadata": {
        "colab": {
          "base_uri": "https://localhost:8080/"
        },
        "id": "3Vou57B2tGrc",
        "outputId": "bf963cb4-4f8b-43cf-acf5-e0fdffe59dd0"
      },
      "execution_count": 4,
      "outputs": [
        {
          "output_type": "stream",
          "name": "stdout",
          "text": [
            "python is very is easy\n",
            "c is very is hard\n",
            "java is very is something I have already learnt\n"
          ]
        }
      ]
    },
    {
      "cell_type": "code",
      "source": [
        "#list is mutable and we can actually chnage the value into it.\n",
        "print('Old List: ',lang)\n",
        "lang[2]=\"Cobra\"\n",
        "lang[1]=\"King Cobra\"\n",
        "print('New List: ',lang)\n"
      ],
      "metadata": {
        "colab": {
          "base_uri": "https://localhost:8080/"
        },
        "id": "NlYzVc7b1UVp",
        "outputId": "7fdeecff-6507-498b-f6ee-9410cfb90530"
      },
      "execution_count": 5,
      "outputs": [
        {
          "output_type": "stream",
          "name": "stdout",
          "text": [
            "Old List:  ['python', 'c', 'java']\n",
            "New List:  ['python', 'King Cobra', 'Cobra']\n"
          ]
        }
      ]
    },
    {
      "cell_type": "code",
      "source": [
        "#Using for loop\n",
        "for snakes in lang:\n",
        "  print(\"Snakes are :\", snakes)"
      ],
      "metadata": {
        "colab": {
          "base_uri": "https://localhost:8080/"
        },
        "id": "8wQlCq1R1acb",
        "outputId": "074f5df4-af08-4b0c-feac-501d82a46e77"
      },
      "execution_count": 6,
      "outputs": [
        {
          "output_type": "stream",
          "name": "stdout",
          "text": [
            "Snakes are : python\n",
            "Snakes are : King Cobra\n",
            "Snakes are : Cobra\n"
          ]
        }
      ]
    },
    {
      "cell_type": "code",
      "source": [
        "#lets check how many elements\n",
        "print(len(lang))\n",
        "#Now I wanted to append"
      ],
      "metadata": {
        "colab": {
          "base_uri": "https://localhost:8080/"
        },
        "id": "9cjk0UGx3f-Q",
        "outputId": "2cfb6195-9c47-4049-dd2f-4557d852d83f"
      },
      "execution_count": 7,
      "outputs": [
        {
          "output_type": "stream",
          "name": "stdout",
          "text": [
            "3\n"
          ]
        }
      ]
    },
    {
      "cell_type": "code",
      "source": [
        "lang.append(\"viper\")\n",
        "print('new list: ',lang)"
      ],
      "metadata": {
        "colab": {
          "base_uri": "https://localhost:8080/"
        },
        "id": "uZnc0Rzs5o6a",
        "outputId": "909f56ef-26c7-4fc6-9503-ff8e35c67b3c"
      },
      "execution_count": 8,
      "outputs": [
        {
          "output_type": "stream",
          "name": "stdout",
          "text": [
            "new list:  ['python', 'King Cobra', 'Cobra', 'viper']\n"
          ]
        }
      ]
    },
    {
      "cell_type": "markdown",
      "source": [
        "Deletion"
      ],
      "metadata": {
        "id": "7sL8xRv7tlc0"
      }
    },
    {
      "cell_type": "code",
      "source": [
        "# Removing some element from lang list\n",
        "lang.remove('python')\n",
        "print('updated list: ',lang)"
      ],
      "metadata": {
        "colab": {
          "base_uri": "https://localhost:8080/"
        },
        "id": "ZgP53-nttnHT",
        "outputId": "bc700b56-349c-4e31-dea8-7dcac8b4441d"
      },
      "execution_count": 12,
      "outputs": [
        {
          "output_type": "stream",
          "name": "stdout",
          "text": [
            "updated list:  ['King Cobra', 'Cobra', 'viper']\n"
          ]
        }
      ]
    },
    {
      "cell_type": "code",
      "source": [
        "print('updated list: ',lang) # Removing by position , starts with 0\n",
        "lang.pop(2)\n",
        "print('updated list: ',lang)"
      ],
      "metadata": {
        "colab": {
          "base_uri": "https://localhost:8080/"
        },
        "id": "Vg-VovSFuEFg",
        "outputId": "8e1a6c12-336c-4ebb-a6cf-48c70a898b76"
      },
      "execution_count": 13,
      "outputs": [
        {
          "output_type": "stream",
          "name": "stdout",
          "text": [
            "updated list:  ['King Cobra', 'Cobra', 'viper']\n",
            "updated list:  ['King Cobra', 'Cobra']\n"
          ]
        }
      ]
    },
    {
      "cell_type": "markdown",
      "source": [
        "##Difference between del(), remove(), pop()"
      ],
      "metadata": {
        "id": "9OgLKw3uunnQ"
      }
    },
    {
      "cell_type": "code",
      "source": [
        "number_list=[1,2,3,4,1]\n",
        "number_list.remove(4) #Element 4 removal\n",
        "print('updated list: ',number_list)\n",
        "number_list=[1,2,3,4,1]\n",
        "number_list.pop(4) #Removal by Index\n",
        "print('updated list: ',number_list)\n",
        "number_list=[1,2,3,4,1]\n",
        "del(number_list[4]) #Removal by Index\n",
        "print('updated list: ',number_list)"
      ],
      "metadata": {
        "colab": {
          "base_uri": "https://localhost:8080/"
        },
        "id": "dyHIvkmHuwM5",
        "outputId": "9e1b9c0f-75f5-4901-d1a6-dbd16aafe5ef"
      },
      "execution_count": 14,
      "outputs": [
        {
          "output_type": "stream",
          "name": "stdout",
          "text": [
            "updated list:  [1, 2, 3, 1]\n",
            "updated list:  [1, 2, 3, 4]\n",
            "updated list:  [1, 2, 3, 4]\n"
          ]
        }
      ]
    },
    {
      "cell_type": "markdown",
      "source": [
        "##Tupples"
      ],
      "metadata": {
        "id": "c_9wI1x53VVo"
      }
    },
    {
      "cell_type": "code",
      "source": [
        "tupple_example=('MSc','MS','BSc','BS')\n",
        "print(tupple_example)\n",
        "print(type(tupple_example))"
      ],
      "metadata": {
        "colab": {
          "base_uri": "https://localhost:8080/"
        },
        "id": "ggli7jLf3ZOB",
        "outputId": "2715e1bb-7fd4-44ba-e285-83aa1e130c70"
      },
      "execution_count": 17,
      "outputs": [
        {
          "output_type": "stream",
          "name": "stdout",
          "text": [
            "('MSc', 'MS', 'BSc', 'BS')\n",
            "<class 'tuple'>\n"
          ]
        }
      ]
    },
    {
      "cell_type": "markdown",
      "source": [
        "##Creating Dictionary and some operations onto it"
      ],
      "metadata": {
        "id": "m3jLFwnM3xA2"
      }
    },
    {
      "cell_type": "code",
      "source": [
        "dict_example = {\n",
        "    'Degree':'Master of Science (MS)',\n",
        "    'Subject': 'Data Science',\n",
        "    'Credit': '124'\n",
        "}\n",
        "print(dict_example)"
      ],
      "metadata": {
        "colab": {
          "base_uri": "https://localhost:8080/"
        },
        "id": "_LzKvDwm39aV",
        "outputId": "70e9b870-9863-4a44-c437-65dcb297be65"
      },
      "execution_count": 24,
      "outputs": [
        {
          "output_type": "stream",
          "name": "stdout",
          "text": [
            "{'Degree': 'Master of Science (MS)', 'Subject': 'Data Science', 'Credit': '124'}\n"
          ]
        }
      ]
    },
    {
      "cell_type": "code",
      "source": [
        "#access the values\n",
        "Degree_name_by_key=dict_example['Degree']\n",
        "Degree_name_by_method=dict_example.get('Degree')\n",
        "print(Degree_name_by_key)\n",
        "print(Degree_name_by_method)\n",
        "\n",
        "# Modify the values\n",
        "dict_example['Degree']='Master of Science (MSc)'\n",
        "dict_example['Credit']='80'\n",
        "\n",
        "print('updated dictionary:',dict_example)\n",
        "\n",
        "#printing all keys\n",
        "for degree_details in dict_example:\n",
        "  print('keys in dict',degree_details)\n",
        "\n",
        "#printing all values\n",
        "for degree_details in dict_example.values():\n",
        "  print('Values in dict',degree_details)\n"
      ],
      "metadata": {
        "colab": {
          "base_uri": "https://localhost:8080/"
        },
        "id": "7UtXCYe54lPE",
        "outputId": "96f84204-82d7-44ad-d6fd-0c79824f3575"
      },
      "execution_count": 27,
      "outputs": [
        {
          "output_type": "stream",
          "name": "stdout",
          "text": [
            "Master of Science (MSc)\n",
            "Master of Science (MSc)\n",
            "updated dictionary: {'Degree': 'Master of Science (MSc)', 'Subject': 'Data Science', 'Credit': '80'}\n",
            "keys in dict Degree\n",
            "keys in dict Subject\n",
            "keys in dict Credit\n",
            "Values in dict Master of Science (MSc)\n",
            "Values in dict Data Science\n",
            "Values in dict 80\n"
          ]
        }
      ]
    },
    {
      "cell_type": "code",
      "source": [],
      "metadata": {
        "id": "THGS5-4D4pQD"
      },
      "execution_count": null,
      "outputs": []
    }
  ]
}
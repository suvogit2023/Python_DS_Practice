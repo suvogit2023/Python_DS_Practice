{
  "nbformat": 4,
  "nbformat_minor": 0,
  "metadata": {
    "colab": {
      "provenance": [],
      "authorship_tag": "ABX9TyOjUntqhk0Juld+o33tbWHt",
      "include_colab_link": true
    },
    "kernelspec": {
      "name": "python3",
      "display_name": "Python 3"
    },
    "language_info": {
      "name": "python"
    }
  },
  "cells": [
    {
      "cell_type": "markdown",
      "metadata": {
        "id": "view-in-github",
        "colab_type": "text"
      },
      "source": [
        "<a href=\"https://colab.research.google.com/github/suvogit2023/Python_DS_Practice/blob/main/Package%2C_Functions_Loop.ipynb\" target=\"_parent\"><img src=\"https://colab.research.google.com/assets/colab-badge.svg\" alt=\"Open In Colab\"/></a>"
      ]
    },
    {
      "cell_type": "markdown",
      "source": [
        "\n",
        "# Code inspired by \"Practical Data Science with Jupyter\" by Prateek Gupta.\n",
        "# For educational showcase purposes only, with no commercial intent."
      ],
      "metadata": {
        "id": "xnR95foTD9ZJ"
      }
    },
    {
      "cell_type": "markdown",
      "source": [
        "Help Function"
      ],
      "metadata": {
        "id": "CPo2KIdMEG_b"
      }
    },
    {
      "cell_type": "code",
      "source": [
        "help(len)"
      ],
      "metadata": {
        "colab": {
          "base_uri": "https://localhost:8080/"
        },
        "id": "zWduKkyWEABF",
        "outputId": "9404096a-38e6-453a-9631-5bb1b5e13ec9"
      },
      "execution_count": 1,
      "outputs": [
        {
          "output_type": "stream",
          "name": "stdout",
          "text": [
            "Help on built-in function len in module builtins:\n",
            "\n",
            "len(obj, /)\n",
            "    Return the number of items in a container.\n",
            "\n"
          ]
        }
      ]
    },
    {
      "cell_type": "markdown",
      "source": [
        "Importing Python arrays"
      ],
      "metadata": {
        "id": "RjzhhdsQEXIq"
      }
    },
    {
      "cell_type": "code",
      "source": [
        "import math\n",
        "area=0\n",
        "radius=5.89\n",
        "area=math.pi*radius**2\n",
        "print('area: ',area)"
      ],
      "metadata": {
        "colab": {
          "base_uri": "https://localhost:8080/"
        },
        "id": "gTEUD-79EZKI",
        "outputId": "b0292978-2b7a-4aaf-fc7a-d883bf5cc797"
      },
      "execution_count": 4,
      "outputs": [
        {
          "output_type": "stream",
          "name": "stdout",
          "text": [
            "area:  108.98844649760245\n"
          ]
        }
      ]
    },
    {
      "cell_type": "code",
      "source": [
        "from math import pi #If we know about the spefic package we can directly use from keyword\n",
        "area=0\n",
        "radius=5.89\n",
        "area=math.pi*radius**2\n",
        "print('area: ',area)"
      ],
      "metadata": {
        "colab": {
          "base_uri": "https://localhost:8080/"
        },
        "id": "opLdq98lEbXf",
        "outputId": "2d22d752-bd6d-4f75-9710-d3535e8e009c"
      },
      "execution_count": 5,
      "outputs": [
        {
          "output_type": "stream",
          "name": "stdout",
          "text": [
            "area:  108.98844649760245\n"
          ]
        }
      ]
    },
    {
      "cell_type": "markdown",
      "source": [
        "##Creating a call function"
      ],
      "metadata": {
        "id": "Xar8dUhLFH-i"
      }
    },
    {
      "cell_type": "code",
      "source": [
        "#defining my own function\n",
        "def sg_function():\n",
        "  print('My Name is Subhayan Ghosh')"
      ],
      "metadata": {
        "id": "hrat1oqPFJ-S"
      },
      "execution_count": 7,
      "outputs": []
    },
    {
      "cell_type": "code",
      "source": [
        "sg_function()\n",
        "\n",
        "#Passing a parameter into a function along with default parameter\n",
        "def add_three_numbers(a,b,c=2):\n",
        "  return a+b+c\n",
        "\n",
        "print(add_three_numbers(2,b=3))"
      ],
      "metadata": {
        "colab": {
          "base_uri": "https://localhost:8080/"
        },
        "id": "tbXTTKlIFPHQ",
        "outputId": "36423b24-909c-4d62-f0b8-8f76cda4d60e"
      },
      "execution_count": 12,
      "outputs": [
        {
          "output_type": "stream",
          "name": "stdout",
          "text": [
            "My Name is Subhayan Ghosh\n",
            "7\n"
          ]
        }
      ]
    },
    {
      "cell_type": "code",
      "source": [
        "#Handling the situation where we are not sure about the number of parameter calles\n",
        "def fi(*array):\n",
        "  return(sum(array))\n",
        "\n",
        "fi(1,2,3,4,4,5,6,6,7,7,8,8,)"
      ],
      "metadata": {
        "colab": {
          "base_uri": "https://localhost:8080/"
        },
        "id": "HorNq9reHSoE",
        "outputId": "5470d74a-15c2-4518-aed1-4b3cbf731d1f"
      },
      "execution_count": 15,
      "outputs": [
        {
          "output_type": "execute_result",
          "data": {
            "text/plain": [
              "61"
            ]
          },
          "metadata": {},
          "execution_count": 15
        }
      ]
    },
    {
      "cell_type": "code",
      "source": [
        "#Global Variable and Local Variable\n",
        "\n",
        "my_text=\"I am learning now Python\"\n",
        "def function1():\n",
        "  \"\"\"The function uses global scope variable\"\"\"\n",
        "  print(my_text)\n",
        "\n",
        "def function2():\n",
        "  \"\"\"The function uses global scope variable\"\"\"\n",
        "  print(my_text)\n",
        "\n",
        "function1()\n",
        "function2()"
      ],
      "metadata": {
        "colab": {
          "base_uri": "https://localhost:8080/"
        },
        "id": "YqP-3kagHeoO",
        "outputId": "b1cff34d-08ca-42b8-c4bd-248817ec7b61"
      },
      "execution_count": 16,
      "outputs": [
        {
          "output_type": "stream",
          "name": "stdout",
          "text": [
            "I am learning now Python\n",
            "I am learning now Python\n"
          ]
        }
      ]
    },
    {
      "cell_type": "markdown",
      "source": [
        "Now Let us try to print the value of globally scoped varuable just afterfunction declaration as shown below. my_text is outside of the function. If we try to run it will throw an error\n"
      ],
      "metadata": {
        "id": "WrB5NxDqKpeP"
      }
    },
    {
      "cell_type": "code",
      "source": [
        "def my_function():\n",
        "  #print(my_text)\n",
        "  my_text=\"I am  also learning  Python\"\n",
        "  print(my_text)\n",
        "\n",
        "#define a global scope variable\n",
        "my_text=\"I am learning now Python\"\n",
        "my_function()\n",
        "print(my_text)"
      ],
      "metadata": {
        "colab": {
          "base_uri": "https://localhost:8080/"
        },
        "id": "_feTqqC5LEMT",
        "outputId": "22e99b83-fbf8-443c-977f-de6fb1523cb8"
      },
      "execution_count": 18,
      "outputs": [
        {
          "output_type": "stream",
          "name": "stdout",
          "text": [
            "I am  also learning  Python\n",
            "I am learning now Python\n"
          ]
        }
      ]
    },
    {
      "cell_type": "markdown",
      "source": [
        "## The great Lambda Function: Known as anynomus function. We dont need any def keyword to declare this."
      ],
      "metadata": {
        "id": "VI5yqwikLjY4"
      }
    },
    {
      "cell_type": "code",
      "source": [
        "multiply =lambda x:x*2\n",
        "print(multiply(5))\n",
        "\n",
        "sum =lambda x,y:x+y\n",
        "print(sum(5,5))"
      ],
      "metadata": {
        "colab": {
          "base_uri": "https://localhost:8080/"
        },
        "id": "_QwLSLngL6RX",
        "outputId": "9098381d-a1b8-4c35-a29a-2881120a3025"
      },
      "execution_count": 21,
      "outputs": [
        {
          "output_type": "stream",
          "name": "stdout",
          "text": [
            "10\n",
            "10\n"
          ]
        }
      ]
    },
    {
      "cell_type": "code",
      "source": [],
      "metadata": {
        "id": "1OVwDCeBMldH"
      },
      "execution_count": 26,
      "outputs": []
    }
  ]
}